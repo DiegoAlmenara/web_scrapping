{
 "cells": [
  {
   "cell_type": "markdown",
   "id": "e2464824",
   "metadata": {},
   "source": [
    "# Bumeran — Web Scraping"
   ]
  },
  {
   "cell_type": "markdown",
   "id": "59d9fcdc",
   "metadata": {},
   "source": [
    "## 1. Installing libraries"
   ]
  },
  {
   "cell_type": "markdown",
   "id": "035064a5",
   "metadata": {},
   "source": [
    "Directly in the Anaconda Prompt, we need to create a new environment and install all the libraries needed to perform web scraping with Selenium. These libraries are contained in the requirements.txt file."
   ]
  },
  {
   "cell_type": "code",
   "execution_count": null,
   "id": "91b71ade",
   "metadata": {},
   "outputs": [],
   "source": [
    "# requirements.txt\n",
    "\n",
    "## Core scraping dependencies\n",
    "### selenium==4.23.1\n",
    "### webdriver-manager==4.0.2\n",
    "\n",
    "## Parsing and data handling\n",
    "### beautifulsoup4==4.12.3\n",
    "### lxml==5.3.0\n",
    "### pandas==2.2.2\n",
    "\n",
    "## Environment variables\n",
    "### python-dotenv==1.0.1\n",
    "\n",
    "## Progress bars\n",
    "### tqdm==4.66.5\n",
    "\n",
    "## Interactive widgets for Jupyter\n",
    "### ipywidgets==8.1.5\n",
    "\n",
    "## Jupyter Notebook/Lab\n",
    "### jupyter==1.0.0"
   ]
  },
  {
   "cell_type": "markdown",
   "id": "379eea65",
   "metadata": {},
   "source": [
    "## 2. Calling libraries"
   ]
  },
  {
   "cell_type": "code",
   "execution_count": 183,
   "id": "45ad162a",
   "metadata": {},
   "outputs": [],
   "source": [
    "import pandas as pd\n",
    "import re\n",
    "import time \n",
    "\n",
    "# this library is to manipulate browser\n",
    "from selenium import webdriver\n",
    "\n",
    "# it allows you to work with differen versions of drivers\n",
    "# We call ChromeDriver\n",
    "from selenium.webdriver.chrome.service import Service\n",
    "from webdriver_manager.chrome import ChromeDriverManager\n",
    "from selenium.webdriver.common.by import By\n",
    "from selenium.webdriver.support.ui import WebDriverWait\n",
    "from selenium.webdriver.support import expected_conditions as EC"
   ]
  },
  {
   "cell_type": "markdown",
   "id": "acfa617e",
   "metadata": {},
   "source": [
    "## 3. Setting the Driver"
   ]
  },
  {
   "cell_type": "code",
   "execution_count": 184,
   "id": "5ba9f855",
   "metadata": {},
   "outputs": [],
   "source": [
    "options = webdriver.ChromeOptions()\n",
    "options.add_argument(\"--start-maximized\") # Maximizar la ventana\n",
    "driver = webdriver.Chrome(service=Service(ChromeDriverManager().install()), options=options)\n",
    "# This code opens a Chrome Driver. We are going to use it to go navigate on the web.\n",
    "\n",
    "url = \"https://www.bumeran.com.pe/empleos.html\"\n",
    "driver.get(url)\n",
    "time.sleep(12) \n",
    "# Abrir el website\n",
    "\n",
    "driver.execute_script(\"document.body.style.zoom='100%'\")\n",
    "# Forzar a que la visualización esté al 100% y evitar errores al trabajar colaborativamente."
   ]
  },
  {
   "cell_type": "markdown",
   "id": "a8952230",
   "metadata": {},
   "source": [
    "## 4. Applying filters"
   ]
  },
  {
   "cell_type": "code",
   "execution_count": 185,
   "id": "4b3e6729",
   "metadata": {},
   "outputs": [],
   "source": [
    "# 1. Fecha de publicación: Menor a 15 días\n",
    "fecha_filter = driver.find_element(By.XPATH, \"/html/body/div[1]/div/div[2]/div[1]/div/div[2]/div[1]/div[2]/div/div[1]/button[1]/div\")\n",
    "fecha_filter.click()\n",
    "time.sleep(1)\n",
    "menos15 = driver.find_element(By.XPATH, \"/html/body/div[1]/div/div[2]/div[1]/div/div[2]/div[1]/div[2]/div/div[2]/div/div/button[8]\")\n",
    "menos15.click()\n",
    "time.sleep(2)\n",
    "\n",
    "# 2. Área: Tecnología, Sistemas y Telecomunicaciones\n",
    "area_filter = driver.find_element(By.XPATH, \"/html/body/div[1]/div/div[2]/div[1]/div/div[2]/div[1]/div[2]/div/div[1]/button[1]/div\")\n",
    "area_filter.click()\n",
    "time.sleep(1)\n",
    "area_option = driver.find_element(By.XPATH, \"/html/body/div[1]/div/div[2]/div[1]/div/div[2]/div[1]/div[2]/div/div[2]/div/div/button[3]\")\n",
    "area_option.click()\n",
    "time.sleep(2)\n",
    "\n",
    "# 3. Subárea: Programación\n",
    "subarea_filter = driver.find_element(By.XPATH, \"/html/body/div[1]/div/div[2]/div[1]/div/div[2]/div[1]/div[2]/div/div[1]/button[1]/div\")\n",
    "subarea_filter.click()\n",
    "time.sleep(1)\n",
    "subarea_option = driver.find_element(By.XPATH, \"/html/body/div[1]/div/div[2]/div[1]/div/div[2]/div[1]/div[2]/div/div[2]/div/div/button[2]\")\n",
    "subarea_option.click()\n",
    "time.sleep(2)\n",
    "\n",
    "# 4. Departamento: Lima\n",
    "dep_filter = driver.find_element(By.XPATH, \"/html/body/div[1]/div/div[2]/div[1]/div/div[2]/div[1]/div[2]/div/div[1]/button[1]/div\")\n",
    "dep_filter.click()\n",
    "time.sleep(1)\n",
    "lima_option = driver.find_element(By.XPATH, \"/html/body/div[1]/div/div[2]/div[1]/div/div[2]/div[1]/div[2]/div/div[2]/div/div/button[1]\")\n",
    "lima_option.click()\n",
    "time.sleep(2)\n",
    "\n",
    "# 5. Carga horaria: Full-Time\n",
    "carga_filter = driver.find_element(By.XPATH, \"/html/body/div[1]/div/div[2]/div[1]/div/div[2]/div[1]/div[2]/div/div[1]/button[4]/div\")\n",
    "carga_filter.click()\n",
    "time.sleep(1)\n",
    "fulltime_option = driver.find_element(By.XPATH, \"/html/body/div[1]/div/div[2]/div[1]/div/div[2]/div[1]/div[2]/div/div[2]/div/div/button[1]\")\n",
    "fulltime_option.click()\n",
    "time.sleep(2)"
   ]
  },
  {
   "cell_type": "markdown",
   "id": "11026f5b",
   "metadata": {},
   "source": [
    "## 5. Stage 1: Extracting Job Posting Links"
   ]
  },
  {
   "cell_type": "code",
   "execution_count": 186,
   "id": "2152abe8",
   "metadata": {},
   "outputs": [
    {
     "name": "stdout",
     "output_type": "stream",
     "text": [
      "Links recolectados hasta ahora: 20\n",
      "Links recolectados hasta ahora: 40\n",
      "Links recolectados hasta ahora: 60\n",
      "Links recolectados hasta ahora: 80\n",
      "Links recolectados hasta ahora: 100\n",
      "Links recolectados hasta ahora: 109\n",
      "No hay más páginas.\n",
      "Total de links recolectados: 109\n"
     ]
    }
   ],
   "source": [
    "wait = WebDriverWait(driver, 10)\n",
    "\n",
    "job_links = []\n",
    "\n",
    "while True:\n",
    "    # Esperar a que carguen los títulos con links\n",
    "    wait.until(EC.presence_of_all_elements_located((By.CSS_SELECTOR, \"a[href*='/empleos/']\")))\n",
    "\n",
    "    # Extraer todos los links de empleos en la página\n",
    "    jobs = driver.find_elements(By.CSS_SELECTOR, \"a[href*='/empleos/']\")\n",
    "    for job in jobs:\n",
    "        link = job.get_attribute(\"href\")\n",
    "        if link and \"bumeran.com.pe/empleos/\" in link and link not in job_links:\n",
    "            job_links.append(link)\n",
    "\n",
    "    print(f\"Links recolectados hasta ahora: {len(job_links)}\")\n",
    "\n",
    "    # Intentar ir a la siguiente página\n",
    "    try:\n",
    "        next_button = driver.find_element(By.XPATH, \"/html/body/div[1]/div/div[2]/div[1]/div/div[2]/div[2]/div[22]/a[2]/i\")\n",
    "        time.sleep(1)\n",
    "        next_button.click()\n",
    "        time.sleep(3)\n",
    "    except:\n",
    "        print(\"No hay más páginas.\")\n",
    "        break\n",
    "\n",
    "print(f\"Total de links recolectados: {len(job_links)}\")"
   ]
  },
  {
   "cell_type": "code",
   "execution_count": 187,
   "id": "d3f7abd6",
   "metadata": {},
   "outputs": [
    {
     "data": {
      "text/plain": [
       "['https://www.bumeran.com.pe/empleos/software-engineer-senior-grupo-gloria-1117976663.html',\n",
       " 'https://www.bumeran.com.pe/empleos/programador-frontend-senior-sonda-del-peru-s.a.-1117973000.html',\n",
       " 'https://www.bumeran.com.pe/empleos/analista-programador-java-1117972678.html',\n",
       " 'https://www.bumeran.com.pe/empleos/analista-programador-postgre-oracle-hibrido-green-solutions-1117979984.html',\n",
       " 'https://www.bumeran.com.pe/empleos/analista-programador-sede-ate-bumeran-selecta-1117969140.html',\n",
       " 'https://www.bumeran.com.pe/empleos/trainee-programador-jr-building-software-1117968407.html',\n",
       " 'https://www.bumeran.com.pe/empleos/desarrollador-full-stack-node.js-c-java-angularjs-ibr-peru-s.a.-1117967655.html',\n",
       " 'https://www.bumeran.com.pe/empleos/practicante-pre-profesional-de-automatizacion-canvia-1117980437.html',\n",
       " 'https://www.bumeran.com.pe/empleos/analista-programador-fullstack-java-hitss-peru-1117980080.html',\n",
       " 'https://www.bumeran.com.pe/empleos/desarrollador-genexus-remoto-software-enterprise-services-s.a.c.-1117980075.html',\n",
       " 'https://www.bumeran.com.pe/empleos/analista-programador-.net-sqlserver-integration-quality-project-management-s.a.c.-iq-project-s.a.c.-1117979719.html',\n",
       " 'https://www.bumeran.com.pe/empleos/programador-electrico-polindustria-s.a-1117979364.html',\n",
       " 'https://www.bumeran.com.pe/empleos/java-developer-senior-inetum-peru-1117979249.html',\n",
       " 'https://www.bumeran.com.pe/empleos/senior-react-developer-encora-1117979242.html',\n",
       " 'https://www.bumeran.com.pe/empleos/desarrollador-backend-semi-senior-metrica-peru-1117979121.html',\n",
       " 'https://www.bumeran.com.pe/empleos/desarrollador-lider-tecnico-protiviti-peru-1117978985.html',\n",
       " 'https://www.bumeran.com.pe/empleos/desarrollador-de-integracion-osb-stefanini-peru-s.a-1117978939.html',\n",
       " 'https://www.bumeran.com.pe/empleos/desarrollador-java-senior-azure-temporal-indra-peru-1117978869.html',\n",
       " 'https://www.bumeran.com.pe/empleos/analista-desarrollador-java-sector-administracion-de-fondos-colectivos-experis-peru-1117978810.html',\n",
       " 'https://www.bumeran.com.pe/empleos/desarrollador-full-stack-surco-presencial-well-consulting-services-1117978454.html',\n",
       " 'https://www.bumeran.com.pe/empleos/auditor-en-tasador-de-joyas-caja-metropolitana-de-lima-1117977845.html',\n",
       " 'https://www.bumeran.com.pe/empleos/programador-full-stack-java-react-valtx-1117977502.html',\n",
       " 'https://www.bumeran.com.pe/empleos/analista-de-imagenes-hospitalarias-sistemas-grupo-san-pablo-1117977289.html',\n",
       " 'https://www.bumeran.com.pe/empleos/desarrollador-backend-nodejs-senior-zoluxiones-sac-1117977115.html',\n",
       " 'https://www.bumeran.com.pe/empleos/analista-programador-php-canvia-1117976775.html',\n",
       " 'https://www.bumeran.com.pe/empleos/desarrolladora-mineria-lurin-zamine-peru-1117976772.html',\n",
       " 'https://www.bumeran.com.pe/empleos/desarrollador-fullstack-1117976482.html',\n",
       " 'https://www.bumeran.com.pe/empleos/analista-de-programacion-caja-metropolitana-de-lima-1117975863.html',\n",
       " 'https://www.bumeran.com.pe/empleos/programador-bms-o-scada-indra-peru-1117975855.html',\n",
       " 'https://www.bumeran.com.pe/empleos/analista-desarrollador-full-stack-gruporpp-s.a.c.-1117968336.html',\n",
       " 'https://www.bumeran.com.pe/empleos/analista-programador-java-entelgy-1117975157.html',\n",
       " 'https://www.bumeran.com.pe/empleos/analista-programador-.net-%7C-visual-basic-entelgy-1117975151.html',\n",
       " 'https://www.bumeran.com.pe/empleos/analista-desarrollador-java-manpowergroup-peru-1117974662.html',\n",
       " 'https://www.bumeran.com.pe/empleos/desarrollador-backend-nodejs-aws-indra-peru-1117974651.html',\n",
       " 'https://www.bumeran.com.pe/empleos/analista-de-programador-derrama-magisterial-1117974631.html',\n",
       " 'https://www.bumeran.com.pe/empleos/desarrollador-full-stack-java-aws-react-native-software-enterprise-services-s.a.c.-1117974521.html',\n",
       " 'https://www.bumeran.com.pe/empleos/programador-bms-indra-peru-1117974062.html',\n",
       " 'https://www.bumeran.com.pe/empleos/desarrollador-fullstack-lenguaje-go-y-react-native-software-enterprise-services-s.a.c.-1117949402.html',\n",
       " 'https://www.bumeran.com.pe/empleos/desarrollador-mobile-react-native-fractal-soluciones-it-1117974334.html',\n",
       " 'https://www.bumeran.com.pe/empleos/desarrollador-frontend-senior-fractal-soluciones-it-1117974205.html',\n",
       " 'https://www.bumeran.com.pe/empleos/desarrollador-.net-senior-fractal-soluciones-it-1117973977.html',\n",
       " 'https://www.bumeran.com.pe/empleos/programador-ologgi-s.a.c-1117973857.html',\n",
       " 'https://www.bumeran.com.pe/empleos/programador-full-stack-c-exp-en-ia-valtx-1117973381.html',\n",
       " 'https://www.bumeran.com.pe/empleos/programador-bms-automizador-indra-peru-1117973373.html',\n",
       " 'https://www.bumeran.com.pe/empleos/programador-bms-indra-peru-1117973363.html',\n",
       " 'https://www.bumeran.com.pe/empleos/analista-programador-sector-educativo-inlearning-escuelas-de-educacion-superior-1117973244.html',\n",
       " 'https://www.bumeran.com.pe/empleos/programador-bms-indra-peru-1117973221.html',\n",
       " 'https://www.bumeran.com.pe/empleos/tecnico-desarrollador-de-sistemas-1117973188.html',\n",
       " 'https://www.bumeran.com.pe/empleos/analista-programador-senior-adex-1117972522.html',\n",
       " 'https://www.bumeran.com.pe/empleos/programador-en-oracle-developer-clbs-1117972036.html',\n",
       " 'https://www.bumeran.com.pe/empleos/analista-programador-java-remoto-planilla-completa-green-solutions-1117971817.html',\n",
       " 'https://www.bumeran.com.pe/empleos/fullstack-developer-senior-.net-angular-zutun.-1117971550.html',\n",
       " 'https://www.bumeran.com.pe/empleos/analista-programador-java-cloud-senior-green-solutions-1117971404.html',\n",
       " 'https://www.bumeran.com.pe/empleos/desarrollador-backend-.net-indra-peru-1117971369.html',\n",
       " 'https://www.bumeran.com.pe/empleos/analista-programador-de-ti-seaboard-overseas-peru-s.a.-1117970924.html',\n",
       " 'https://www.bumeran.com.pe/empleos/analista-programador-postgre-oracle-hibrido-green-solutions-1117970409.html',\n",
       " 'https://www.bumeran.com.pe/empleos/desarrollador-backend-javascript-senior-remoto-csti-corp-1117970346.html',\n",
       " 'https://www.bumeran.com.pe/empleos/programador-python-junior-csti-corp-1117970174.html',\n",
       " 'https://www.bumeran.com.pe/empleos/.net-developer-junior-inetum-peru-1117970031.html',\n",
       " 'https://www.bumeran.com.pe/empleos/frontend-developer-react-js-ts-zutun.-1117969630.html',\n",
       " 'https://www.bumeran.com.pe/empleos/mid-node-aws-engineer-encora-1117969139.html',\n",
       " 'https://www.bumeran.com.pe/empleos/analista-de-programacion-rpg-izipay-1117080379.html',\n",
       " 'https://www.bumeran.com.pe/empleos/desarrollador-backend-indra-peru-1117968754.html',\n",
       " 'https://www.bumeran.com.pe/empleos/programador-rpa-rocketbot-uipath-valtx-1117968630.html',\n",
       " 'https://www.bumeran.com.pe/empleos/soporte-jr-y-sr-de-plataforma-bmc-helix-remedy-hitss-peru-1117968539.html',\n",
       " 'https://www.bumeran.com.pe/empleos/desarrollador-backend-inetum-peru-1117968206.html',\n",
       " 'https://www.bumeran.com.pe/empleos/desarrollador-fullstack-java-hitss-peru-1117967606.html',\n",
       " 'https://www.bumeran.com.pe/empleos/programador-abap-preencial-experis-peru-1117966739.html',\n",
       " 'https://www.bumeran.com.pe/empleos/desarrollador-fullstack-java-js-remoto-protiviti-peru-1117966558.html',\n",
       " 'https://www.bumeran.com.pe/empleos/analista-programador-clinica-vesalio-s.a.-1117966201.html',\n",
       " 'https://www.bumeran.com.pe/empleos/backend-java-sector-bancario-experis-peru-1117965923.html',\n",
       " 'https://www.bumeran.com.pe/empleos/desarrollador-frontend-react-por-proyecto-indra-peru-1117965904.html',\n",
       " 'https://www.bumeran.com.pe/empleos/desarrollador-full-stack-senior--ecommerce-magento-perfumerias-unidas-1117965886.html',\n",
       " 'https://www.bumeran.com.pe/empleos/desarrollador-genexus-software-enterprise-services-s.a.c.-1117965079.html',\n",
       " 'https://www.bumeran.com.pe/empleos/analista-senior-de-automatizaciones-e-inteligencia-artificial-hibrido-cibergestion-peru-1117964801.html',\n",
       " 'https://www.bumeran.com.pe/empleos/analista-programador-vb6-real-systems-s-a-1117886662.html',\n",
       " 'https://www.bumeran.com.pe/empleos/desarrollador-backend-manpowergroup-peru-1117964291.html',\n",
       " 'https://www.bumeran.com.pe/empleos/desarrollador-full-stack-.net-ibr-peru-s.a.-1117964229.html',\n",
       " 'https://www.bumeran.com.pe/empleos/desarrollador-frontend-senior-canvia-1117964197.html',\n",
       " 'https://www.bumeran.com.pe/empleos/analista-programador-1117964091.html',\n",
       " 'https://www.bumeran.com.pe/empleos/backend-developer-senior-culqi-talent2win-1117963319.html',\n",
       " 'https://www.bumeran.com.pe/empleos/analista-programador-universidad-de-san-martin-de-porres-1117963157.html',\n",
       " 'https://www.bumeran.com.pe/empleos/analista-programador-java-oracle-presencial-hitss-peru-1117963095.html',\n",
       " 'https://www.bumeran.com.pe/empleos/soporte-jr-de-aplicaciones-linux-plsql-hitss-peru-1117963093.html',\n",
       " 'https://www.bumeran.com.pe/empleos/analista-programador-java-valtx-1117962716.html',\n",
       " 'https://www.bumeran.com.pe/empleos/analista-programador-postgre-oracle-hibrido-green-solutions-1117962598.html',\n",
       " 'https://www.bumeran.com.pe/empleos/frontend-developer-angular-experis-peru-1117962336.html',\n",
       " 'https://www.bumeran.com.pe/empleos/desarrollador-frontend-senior-remoto-csti-corp-1117962091.html',\n",
       " 'https://www.bumeran.com.pe/empleos/desarrollador-backend-java-inetum-peru-1117961759.html',\n",
       " 'https://www.bumeran.com.pe/empleos/desarrollador-fullstack-semiseniorjava-angular-csti-corp-1117961713.html',\n",
       " 'https://www.bumeran.com.pe/empleos/analista-programador-full-stack-universidad-de-ingenieria-y-tecnologia-utec-1117961694.html',\n",
       " 'https://www.bumeran.com.pe/empleos/desarrollador-.net-php-indra-peru-1117961552.html',\n",
       " 'https://www.bumeran.com.pe/empleos/desarrollador-python-odoo-ibr-peru-s.a.-1117961539.html',\n",
       " 'https://www.bumeran.com.pe/empleos/desarrollador-backend-javascript-senior-csti-corp-1117961392.html',\n",
       " 'https://www.bumeran.com.pe/empleos/desarrollador-fullsatck-enfoque-en-frontend-fractal-soluciones-it-1117962666.html',\n",
       " 'https://www.bumeran.com.pe/empleos/practicante-de-digitalizacion-repsol-1117960947.html',\n",
       " 'https://www.bumeran.com.pe/empleos/analista-programador-java-microservicios-canvia-1117960644.html',\n",
       " 'https://www.bumeran.com.pe/empleos/programador-1117960615.html',\n",
       " 'https://www.bumeran.com.pe/empleos/analista-programador-frontend-angular-canvia-1117960612.html',\n",
       " 'https://www.bumeran.com.pe/empleos/practicante-profesional-programacion-plsql-indra-peru-1117960022.html',\n",
       " 'https://www.bumeran.com.pe/empleos/tech-lead-lider-tecnico-frontend-react-nextjs-zutun.-1117959935.html',\n",
       " 'https://www.bumeran.com.pe/empleos/practicante-profesional-desarrollador-pl-sql-indra-peru-1117941356.html',\n",
       " 'https://www.bumeran.com.pe/empleos/analista-programador-visual-basic-.net-idm-technology-1117979310.html',\n",
       " 'https://www.bumeran.com.pe/empleos/desarrollador-java-mobile-red-educativa-le-cordon-bleu-1117979044.html',\n",
       " 'https://www.bumeran.com.pe/empleos/desarrollador-full-stack-grupo-red-salud-1117971064.html',\n",
       " 'https://www.bumeran.com.pe/empleos/programador-de-inteligencia-artificial-growth-digital-lab-1117968752.html',\n",
       " 'https://www.bumeran.com.pe/empleos/desarrollador-de-sistemas-intelitech-peru-s.a.c.-1117964390.html',\n",
       " 'https://www.bumeran.com.pe/empleos/desarrollador-full-stack-igts-sac-1117965145.html',\n",
       " 'https://www.bumeran.com.pe/empleos/analista-programador-fullstack-isp-consulting-1117960954.html']"
      ]
     },
     "execution_count": null,
     "metadata": {},
     "output_type": "execute_result"
    }
   ],
   "source": [
    "job_links"
   ]
  },
  {
   "cell_type": "markdown",
   "id": "1c8bf842",
   "metadata": {},
   "source": [
    "## 6. Stage 2: Scrape Job Details"
   ]
  },
  {
   "cell_type": "code",
   "execution_count": 188,
   "id": "647ac902",
   "metadata": {},
   "outputs": [],
   "source": [
    "data = []\n",
    "\n",
    "for url in job_links:\n",
    "    driver.get(url)\n",
    "    time.sleep(3)\n",
    "\n",
    "    try:\n",
    "        job_title = driver.find_element(By.XPATH, \"/html/body/div[1]/div/div[2]/div[2]/div/div[1]/div/div/div[1]/div/div[1]/h1\").text\n",
    "    except:\n",
    "        job_title = \"\"\n",
    "\n",
    "    try:\n",
    "        # Extraer descripción hasta la sección \"Beneficios\"\n",
    "        desc_element = driver.find_element(By.XPATH, \"/html/body/div[1]/div/div[2]/div[2]/div/div[2]/div[1]/div[2]/div[1]/div[1]/div[2]/div/div/p\").text\n",
    "        description = desc_element.strip().split(\"Beneficios\")[0]\n",
    "    except:\n",
    "        description = \"\"\n",
    "\n",
    "    try:\n",
    "        district = driver.find_element(By.XPATH, \"/html/body/div[1]/div/div[2]/div[2]/div/div[2]/div[1]/div[2]/div[1]/div[1]/div[2]/div/div/div[1]/div[2]/div/div/li/a/h2\").text\n",
    "    except:\n",
    "        district = \"\"\n",
    "\n",
    "    try:\n",
    "        work_mode = driver.find_element(By.XPATH, \"/html/body/div[1]/div/div[2]/div[2]/div/div[2]/div[1]/div[2]/div[1]/div[1]/div[2]/div/div/div[4]/div/ul/div[1]/li[1]/a/p\").text\n",
    "    except:\n",
    "        work_mode = \"\"\n",
    "\n",
    "    data.append({\n",
    "        \"Job Title\": job_title,\n",
    "        \"Description\": description,\n",
    "        \"District\": district,\n",
    "        \"Work Mode\": work_mode\n",
    "    })"
   ]
  },
  {
   "cell_type": "markdown",
   "id": "179b4c61",
   "metadata": {},
   "source": [
    "## 7. Exporting CSV"
   ]
  },
  {
   "cell_type": "code",
   "execution_count": 177,
   "id": "0b6f86d7",
   "metadata": {},
   "outputs": [],
   "source": [
    "df = pd.DataFrame(data)\n",
    "df.to_csv(\"bumeran_data_science_jobs.csv\", index=False, encoding=\"utf-8-sig\")"
   ]
  },
  {
   "cell_type": "code",
   "execution_count": null,
   "id": "40543812",
   "metadata": {},
   "outputs": [],
   "source": [
    "driver.quit()"
   ]
  }
 ],
 "metadata": {
  "language_info": {
   "name": "python"
  }
 },
 "nbformat": 4,
 "nbformat_minor": 5
}
